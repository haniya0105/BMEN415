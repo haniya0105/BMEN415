{
 "cells": [
  {
   "cell_type": "code",
   "execution_count": 76,
   "id": "3329c5ac",
   "metadata": {},
   "outputs": [],
   "source": [
    "import os,warnings;warnings.filterwarnings(\"ignore\")\n",
    "import numpy as np;import pandas as pd;import matplotlib.pyplot as plt\n",
    "import seaborn as sns;sns.set(style='whitegrid')\n",
    "from sklearn.model_selection import train_test_split\n",
    "from sklearn import metrics\n",
    "import matplotlib.pyplot as plt\n",
    "from sklearn.preprocessing import StandardScaler\n",
    "\n",
    "%matplotlib inline"
   ]
  },
  {
   "cell_type": "code",
   "execution_count": 77,
   "id": "166229e4",
   "metadata": {},
   "outputs": [
    {
     "name": "stdout",
     "output_type": "stream",
     "text": [
      "<class 'pandas.core.frame.DataFrame'>\n",
      "RangeIndex: 779 entries, 0 to 778\n",
      "Data columns (total 14 columns):\n",
      " #   Column    Non-Null Count  Dtype  \n",
      "---  ------    --------------  -----  \n",
      " 0   CAS       779 non-null    object \n",
      " 1   SMILES    779 non-null    object \n",
      " 2   Set       779 non-null    object \n",
      " 3   nHM       779 non-null    int64  \n",
      " 4   piPC09    779 non-null    float64\n",
      " 5   PCD       779 non-null    float64\n",
      " 6   X2Av      779 non-null    float64\n",
      " 7   MLOGP     779 non-null    float64\n",
      " 8   ON1V      779 non-null    float64\n",
      " 9   N-072     779 non-null    int64  \n",
      " 10  B02[C-N]  779 non-null    int64  \n",
      " 11  F04[C-O]  779 non-null    int64  \n",
      " 12  Class     779 non-null    int64  \n",
      " 13  logBCF    779 non-null    float64\n",
      "dtypes: float64(6), int64(5), object(3)\n",
      "memory usage: 85.3+ KB\n"
     ]
    }
   ],
   "source": [
    "data = pd.read_csv('Regression_QSAR_Bioconcentration.csv')\n",
    "data.info()"
   ]
  },
  {
   "cell_type": "code",
   "execution_count": 78,
   "id": "1bd2a378",
   "metadata": {},
   "outputs": [
    {
     "data": {
      "text/html": [
       "<div>\n",
       "<style scoped>\n",
       "    .dataframe tbody tr th:only-of-type {\n",
       "        vertical-align: middle;\n",
       "    }\n",
       "\n",
       "    .dataframe tbody tr th {\n",
       "        vertical-align: top;\n",
       "    }\n",
       "\n",
       "    .dataframe thead th {\n",
       "        text-align: right;\n",
       "    }\n",
       "</style>\n",
       "<table border=\"1\" class=\"dataframe\">\n",
       "  <thead>\n",
       "    <tr style=\"text-align: right;\">\n",
       "      <th></th>\n",
       "      <th>nHM</th>\n",
       "      <th>piPC09</th>\n",
       "      <th>PCD</th>\n",
       "      <th>X2Av</th>\n",
       "      <th>MLOGP</th>\n",
       "      <th>ON1V</th>\n",
       "      <th>N-072</th>\n",
       "      <th>B02[C-N]</th>\n",
       "      <th>F04[C-O]</th>\n",
       "      <th>logBCF</th>\n",
       "    </tr>\n",
       "  </thead>\n",
       "  <tbody>\n",
       "    <tr>\n",
       "      <th>0</th>\n",
       "      <td>0</td>\n",
       "      <td>0.0</td>\n",
       "      <td>1.49</td>\n",
       "      <td>0.14</td>\n",
       "      <td>1.35</td>\n",
       "      <td>0.72</td>\n",
       "      <td>0</td>\n",
       "      <td>1</td>\n",
       "      <td>5</td>\n",
       "      <td>0.74</td>\n",
       "    </tr>\n",
       "    <tr>\n",
       "      <th>1</th>\n",
       "      <td>0</td>\n",
       "      <td>0.0</td>\n",
       "      <td>1.47</td>\n",
       "      <td>0.14</td>\n",
       "      <td>1.70</td>\n",
       "      <td>0.88</td>\n",
       "      <td>0</td>\n",
       "      <td>1</td>\n",
       "      <td>5</td>\n",
       "      <td>0.93</td>\n",
       "    </tr>\n",
       "    <tr>\n",
       "      <th>2</th>\n",
       "      <td>0</td>\n",
       "      <td>0.0</td>\n",
       "      <td>1.20</td>\n",
       "      <td>0.25</td>\n",
       "      <td>4.14</td>\n",
       "      <td>2.06</td>\n",
       "      <td>0</td>\n",
       "      <td>0</td>\n",
       "      <td>0</td>\n",
       "      <td>3.24</td>\n",
       "    </tr>\n",
       "    <tr>\n",
       "      <th>3</th>\n",
       "      <td>0</td>\n",
       "      <td>0.0</td>\n",
       "      <td>1.69</td>\n",
       "      <td>0.13</td>\n",
       "      <td>1.89</td>\n",
       "      <td>0.79</td>\n",
       "      <td>0</td>\n",
       "      <td>1</td>\n",
       "      <td>8</td>\n",
       "      <td>-0.40</td>\n",
       "    </tr>\n",
       "    <tr>\n",
       "      <th>4</th>\n",
       "      <td>0</td>\n",
       "      <td>0.0</td>\n",
       "      <td>0.52</td>\n",
       "      <td>0.25</td>\n",
       "      <td>2.65</td>\n",
       "      <td>1.31</td>\n",
       "      <td>0</td>\n",
       "      <td>0</td>\n",
       "      <td>0</td>\n",
       "      <td>2.24</td>\n",
       "    </tr>\n",
       "  </tbody>\n",
       "</table>\n",
       "</div>"
      ],
      "text/plain": [
       "   nHM  piPC09   PCD  X2Av  MLOGP  ON1V  N-072  B02[C-N]  F04[C-O]  logBCF\n",
       "0    0     0.0  1.49  0.14   1.35  0.72      0         1         5    0.74\n",
       "1    0     0.0  1.47  0.14   1.70  0.88      0         1         5    0.93\n",
       "2    0     0.0  1.20  0.25   4.14  2.06      0         0         0    3.24\n",
       "3    0     0.0  1.69  0.13   1.89  0.79      0         1         8   -0.40\n",
       "4    0     0.0  0.52  0.25   2.65  1.31      0         0         0    2.24"
      ]
     },
     "execution_count": 78,
     "metadata": {},
     "output_type": "execute_result"
    }
   ],
   "source": [
    "data.drop(['SMILES'], axis = 1, inplace = True)\n",
    "data.drop(['Set'], axis=1, inplace=True)\n",
    "data.drop(['CAS'], axis=1, inplace=True)\n",
    "data.drop(['Class'], axis=1, inplace=True)\n",
    "data.head()"
   ]
  },
  {
   "cell_type": "code",
   "execution_count": 79,
   "id": "69eeb077",
   "metadata": {},
   "outputs": [
    {
     "data": {
      "text/html": [
       "<div>\n",
       "<style scoped>\n",
       "    .dataframe tbody tr th:only-of-type {\n",
       "        vertical-align: middle;\n",
       "    }\n",
       "\n",
       "    .dataframe tbody tr th {\n",
       "        vertical-align: top;\n",
       "    }\n",
       "\n",
       "    .dataframe thead th {\n",
       "        text-align: right;\n",
       "    }\n",
       "</style>\n",
       "<table border=\"1\" class=\"dataframe\">\n",
       "  <thead>\n",
       "    <tr style=\"text-align: right;\">\n",
       "      <th></th>\n",
       "      <th>nHM</th>\n",
       "      <th>piPC09</th>\n",
       "      <th>PCD</th>\n",
       "      <th>X2Av</th>\n",
       "      <th>MLOGP</th>\n",
       "      <th>ON1V</th>\n",
       "      <th>N-072</th>\n",
       "      <th>B02[C-N]</th>\n",
       "      <th>F04[C-O]</th>\n",
       "      <th>logBCF</th>\n",
       "    </tr>\n",
       "  </thead>\n",
       "  <tbody>\n",
       "    <tr>\n",
       "      <th>nHM</th>\n",
       "      <td>1.000000</td>\n",
       "      <td>0.111342</td>\n",
       "      <td>-0.025441</td>\n",
       "      <td>0.203271</td>\n",
       "      <td>0.409056</td>\n",
       "      <td>-0.234624</td>\n",
       "      <td>-0.066342</td>\n",
       "      <td>-0.269776</td>\n",
       "      <td>-0.132241</td>\n",
       "      <td>0.463748</td>\n",
       "    </tr>\n",
       "    <tr>\n",
       "      <th>piPC09</th>\n",
       "      <td>0.111342</td>\n",
       "      <td>1.000000</td>\n",
       "      <td>0.740393</td>\n",
       "      <td>-0.272374</td>\n",
       "      <td>0.513952</td>\n",
       "      <td>0.451541</td>\n",
       "      <td>0.126526</td>\n",
       "      <td>0.050194</td>\n",
       "      <td>0.259653</td>\n",
       "      <td>0.440484</td>\n",
       "    </tr>\n",
       "    <tr>\n",
       "      <th>PCD</th>\n",
       "      <td>-0.025441</td>\n",
       "      <td>0.740393</td>\n",
       "      <td>1.000000</td>\n",
       "      <td>-0.442556</td>\n",
       "      <td>0.454225</td>\n",
       "      <td>0.119992</td>\n",
       "      <td>-0.033546</td>\n",
       "      <td>0.102492</td>\n",
       "      <td>0.107124</td>\n",
       "      <td>0.364646</td>\n",
       "    </tr>\n",
       "    <tr>\n",
       "      <th>X2Av</th>\n",
       "      <td>0.203271</td>\n",
       "      <td>-0.272374</td>\n",
       "      <td>-0.442556</td>\n",
       "      <td>1.000000</td>\n",
       "      <td>-0.118856</td>\n",
       "      <td>0.037763</td>\n",
       "      <td>-0.058784</td>\n",
       "      <td>-0.224941</td>\n",
       "      <td>-0.111929</td>\n",
       "      <td>-0.044699</td>\n",
       "    </tr>\n",
       "    <tr>\n",
       "      <th>MLOGP</th>\n",
       "      <td>0.409056</td>\n",
       "      <td>0.513952</td>\n",
       "      <td>0.454225</td>\n",
       "      <td>-0.118856</td>\n",
       "      <td>1.000000</td>\n",
       "      <td>0.246305</td>\n",
       "      <td>-0.203734</td>\n",
       "      <td>-0.346372</td>\n",
       "      <td>-0.098640</td>\n",
       "      <td>0.793099</td>\n",
       "    </tr>\n",
       "    <tr>\n",
       "      <th>ON1V</th>\n",
       "      <td>-0.234624</td>\n",
       "      <td>0.451541</td>\n",
       "      <td>0.119992</td>\n",
       "      <td>0.037763</td>\n",
       "      <td>0.246305</td>\n",
       "      <td>1.000000</td>\n",
       "      <td>0.211816</td>\n",
       "      <td>0.147121</td>\n",
       "      <td>0.520896</td>\n",
       "      <td>0.140240</td>\n",
       "    </tr>\n",
       "    <tr>\n",
       "      <th>N-072</th>\n",
       "      <td>-0.066342</td>\n",
       "      <td>0.126526</td>\n",
       "      <td>-0.033546</td>\n",
       "      <td>-0.058784</td>\n",
       "      <td>-0.203734</td>\n",
       "      <td>0.211816</td>\n",
       "      <td>1.000000</td>\n",
       "      <td>0.375869</td>\n",
       "      <td>0.176938</td>\n",
       "      <td>-0.184886</td>\n",
       "    </tr>\n",
       "    <tr>\n",
       "      <th>B02[C-N]</th>\n",
       "      <td>-0.269776</td>\n",
       "      <td>0.050194</td>\n",
       "      <td>0.102492</td>\n",
       "      <td>-0.224941</td>\n",
       "      <td>-0.346372</td>\n",
       "      <td>0.147121</td>\n",
       "      <td>0.375869</td>\n",
       "      <td>1.000000</td>\n",
       "      <td>0.230493</td>\n",
       "      <td>-0.331069</td>\n",
       "    </tr>\n",
       "    <tr>\n",
       "      <th>F04[C-O]</th>\n",
       "      <td>-0.132241</td>\n",
       "      <td>0.259653</td>\n",
       "      <td>0.107124</td>\n",
       "      <td>-0.111929</td>\n",
       "      <td>-0.098640</td>\n",
       "      <td>0.520896</td>\n",
       "      <td>0.176938</td>\n",
       "      <td>0.230493</td>\n",
       "      <td>1.000000</td>\n",
       "      <td>-0.130938</td>\n",
       "    </tr>\n",
       "    <tr>\n",
       "      <th>logBCF</th>\n",
       "      <td>0.463748</td>\n",
       "      <td>0.440484</td>\n",
       "      <td>0.364646</td>\n",
       "      <td>-0.044699</td>\n",
       "      <td>0.793099</td>\n",
       "      <td>0.140240</td>\n",
       "      <td>-0.184886</td>\n",
       "      <td>-0.331069</td>\n",
       "      <td>-0.130938</td>\n",
       "      <td>1.000000</td>\n",
       "    </tr>\n",
       "  </tbody>\n",
       "</table>\n",
       "</div>"
      ],
      "text/plain": [
       "               nHM    piPC09       PCD      X2Av     MLOGP      ON1V  \\\n",
       "nHM       1.000000  0.111342 -0.025441  0.203271  0.409056 -0.234624   \n",
       "piPC09    0.111342  1.000000  0.740393 -0.272374  0.513952  0.451541   \n",
       "PCD      -0.025441  0.740393  1.000000 -0.442556  0.454225  0.119992   \n",
       "X2Av      0.203271 -0.272374 -0.442556  1.000000 -0.118856  0.037763   \n",
       "MLOGP     0.409056  0.513952  0.454225 -0.118856  1.000000  0.246305   \n",
       "ON1V     -0.234624  0.451541  0.119992  0.037763  0.246305  1.000000   \n",
       "N-072    -0.066342  0.126526 -0.033546 -0.058784 -0.203734  0.211816   \n",
       "B02[C-N] -0.269776  0.050194  0.102492 -0.224941 -0.346372  0.147121   \n",
       "F04[C-O] -0.132241  0.259653  0.107124 -0.111929 -0.098640  0.520896   \n",
       "logBCF    0.463748  0.440484  0.364646 -0.044699  0.793099  0.140240   \n",
       "\n",
       "             N-072  B02[C-N]  F04[C-O]    logBCF  \n",
       "nHM      -0.066342 -0.269776 -0.132241  0.463748  \n",
       "piPC09    0.126526  0.050194  0.259653  0.440484  \n",
       "PCD      -0.033546  0.102492  0.107124  0.364646  \n",
       "X2Av     -0.058784 -0.224941 -0.111929 -0.044699  \n",
       "MLOGP    -0.203734 -0.346372 -0.098640  0.793099  \n",
       "ON1V      0.211816  0.147121  0.520896  0.140240  \n",
       "N-072     1.000000  0.375869  0.176938 -0.184886  \n",
       "B02[C-N]  0.375869  1.000000  0.230493 -0.331069  \n",
       "F04[C-O]  0.176938  0.230493  1.000000 -0.130938  \n",
       "logBCF   -0.184886 -0.331069 -0.130938  1.000000  "
      ]
     },
     "execution_count": 79,
     "metadata": {},
     "output_type": "execute_result"
    }
   ],
   "source": [
    "data.corr()"
   ]
  },
  {
   "cell_type": "code",
   "execution_count": 80,
   "id": "91f9c148",
   "metadata": {},
   "outputs": [],
   "source": [
    "x = data.drop(['logBCF'], axis =1)\n",
    "y = data.logBCF.values\n",
    "\n",
    "x_train, x_test, y_train, y_test = train_test_split(x,y, test_size=0.2, random_state = 42)"
   ]
  },
  {
   "cell_type": "code",
   "execution_count": 81,
   "id": "b764b3e9",
   "metadata": {},
   "outputs": [],
   "source": [
    "#Linear Regression\n",
    "from sklearn.linear_model import LinearRegression"
   ]
  },
  {
   "cell_type": "code",
   "execution_count": 82,
   "id": "b49458bc",
   "metadata": {},
   "outputs": [
    {
     "data": {
      "text/plain": [
       "StandardScaler()"
      ]
     },
     "execution_count": 82,
     "metadata": {},
     "output_type": "execute_result"
    }
   ],
   "source": [
    "scaler =StandardScaler()\n",
    "scaler"
   ]
  },
  {
   "cell_type": "code",
   "execution_count": 98,
   "id": "adaca237",
   "metadata": {},
   "outputs": [],
   "source": [
    "x_train = scaler.fit_transform(x_train)\n",
    "x_test = scaler.transform(x_test)"
   ]
  },
  {
   "cell_type": "code",
   "execution_count": 99,
   "id": "f0a2886d",
   "metadata": {},
   "outputs": [
    {
     "data": {
      "text/plain": [
       "LinearRegression()"
      ]
     },
     "execution_count": 99,
     "metadata": {},
     "output_type": "execute_result"
    }
   ],
   "source": [
    "mlr = LinearRegression()  \n",
    "mlr.fit(x_train, y_train)"
   ]
  },
  {
   "cell_type": "code",
   "execution_count": 100,
   "id": "95647e92",
   "metadata": {},
   "outputs": [],
   "source": [
    "mlr.predict(x_train)\n",
    "y_predict_test=mlr.predict(x_test)"
   ]
  },
  {
   "cell_type": "code",
   "execution_count": 101,
   "id": "434fbbe7",
   "metadata": {},
   "outputs": [],
   "source": [
    "#Performance \n",
    "VAR = metrics.explained_variance_score(y_test, y_predict_test)\n",
    "MSE = metrics.mean_squared_error(y_test, y_predict_test)\n",
    "R2 = metrics.r2_score(y_test, y_predict_test)"
   ]
  },
  {
   "cell_type": "code",
   "execution_count": 102,
   "id": "c630428f",
   "metadata": {},
   "outputs": [
    {
     "name": "stdout",
     "output_type": "stream",
     "text": [
      "Explained Variance: 0.6156470996852812\n",
      "Mean Square Error: 0.6814697202762693\n",
      "R-Squared 0.6156404110085312\n"
     ]
    }
   ],
   "source": [
    "print('Explained Variance:', VAR)\n",
    "print('Mean Square Error:', MSE)\n",
    "print('R-Squared', R2)\n"
   ]
  },
  {
   "cell_type": "code",
   "execution_count": 103,
   "id": "2dbbe70f",
   "metadata": {},
   "outputs": [
    {
     "data": {
      "text/plain": [
       "Text(0.5, 1.0, 'Linear Regression Model')"
      ]
     },
     "execution_count": 103,
     "metadata": {},
     "output_type": "execute_result"
    },
    {
     "data": {
      "image/png": "[encoded data removed]",
      "text/plain": [
       "<Figure size 432x288 with 1 Axes>"
      ]
     },
     "metadata": {
      "needs_background": "light"
     },
     "output_type": "display_data"
    }
   ],
   "source": [
    "sns.scatterplot(y_test,y_predict_test)\n",
    "plt.xlabel('Actual')\n",
    "plt.ylabel('Predicted')\n",
    "plt.title(\"Linear Regression Model\")"
   ]
  },
  {
   "cell_type": "code",
   "execution_count": 104,
   "id": "ffebce0f",
   "metadata": {},
   "outputs": [],
   "source": [
    "#Decision Tree\n",
    "from sklearn.tree import DecisionTreeRegressor"
   ]
  },
  {
   "cell_type": "code",
   "execution_count": 105,
   "id": "4e132531",
   "metadata": {},
   "outputs": [
    {
     "data": {
      "text/plain": [
       "DecisionTreeRegressor()"
      ]
     },
     "execution_count": 105,
     "metadata": {},
     "output_type": "execute_result"
    }
   ],
   "source": [
    "regressor = DecisionTreeRegressor()\n",
    "regressor.fit(x_train, y_train)"
   ]
  },
  {
   "cell_type": "code",
   "execution_count": 112,
   "id": "2c5ec0fb",
   "metadata": {},
   "outputs": [
    {
     "name": "stdout",
     "output_type": "stream",
     "text": [
      "Explained Variance: 0.4560263195850349\n",
      "Mean Square Error: 0.98437792022792\n",
      "R-Squared 0.44479544494259515\n"
     ]
    }
   ],
   "source": [
    "regressor.predict(x_train)\n",
    "predicted = regressor.predict(x_test)\n",
    "VAR = metrics.explained_variance_score(y_test, predicted)\n",
    "MSE = metrics.mean_squared_error(y_test, predicted)\n",
    "R2 = metrics.r2_score(y_test, predicted)\n",
    "print('Explained Variance:', VAR)\n",
    "print('Mean Square Error:', MSE)\n",
    "print('R-Squared', R2)"
   ]
  },
  {
   "cell_type": "code",
   "execution_count": 113,
   "id": "40158363",
   "metadata": {},
   "outputs": [
    {
     "data": {
      "text/plain": [
       "Text(0.5, 1.0, 'Decision Tree Regression Model')"
      ]
     },
     "execution_count": 113,
     "metadata": {},
     "output_type": "execute_result"
    },
    {
     "data": {
      "image/png": "[encoded data removed]",
      "text/plain": [
       "<Figure size 432x288 with 1 Axes>"
      ]
     },
     "metadata": {
      "needs_background": "light"
     },
     "output_type": "display_data"
    }
   ],
   "source": [
    "sns.scatterplot(y_test,predicted)\n",
    "plt.xlabel('Actual')\n",
    "plt.ylabel('Predicted')\n",
    "plt.title(\"Decision Tree Regression Model\")"
   ]
  },
  {
   "cell_type": "code",
   "execution_count": 124,
   "id": "95550ff1",
   "metadata": {},
   "outputs": [],
   "source": [
    "#Elastic Net\n",
    "from sklearn.linear_model import ElasticNet"
   ]
  },
  {
   "cell_type": "code",
   "execution_count": 123,
   "id": "883b7038",
   "metadata": {},
   "outputs": [
    {
     "data": {
      "text/plain": [
       "ElasticNet()"
      ]
     },
     "execution_count": 123,
     "metadata": {},
     "output_type": "execute_result"
    }
   ],
   "source": [
    "regr = ElasticNet()\n",
    "regr.fit(x_train, y_train)"
   ]
  },
  {
   "cell_type": "code",
   "execution_count": 125,
   "id": "8f480ca5",
   "metadata": {},
   "outputs": [
    {
     "name": "stdout",
     "output_type": "stream",
     "text": [
      "Explained Variance: 0.3472792273020452\n",
      "Mean Square Error: 1.1574615604117031\n",
      "R-Squared 0.34717356267434685\n"
     ]
    }
   ],
   "source": [
    "regr.predict(x_train)\n",
    "y_predicted = regr.predict(x_test)\n",
    "VAR = metrics.explained_variance_score(y_test, y_predicted)\n",
    "MSE = metrics.mean_squared_error(y_test, y_predicted)\n",
    "R2 = metrics.r2_score(y_test, y_predicted)\n",
    "print('Explained Variance:', VAR)\n",
    "print('Mean Square Error:', MSE)\n",
    "print('R-Squared', R2)"
   ]
  },
  {
   "cell_type": "code",
   "execution_count": 127,
   "id": "1d54163c",
   "metadata": {},
   "outputs": [
    {
     "data": {
      "text/plain": [
       "Text(0.5, 1.0, 'Decision Tree Regression Model')"
      ]
     },
     "execution_count": 127,
     "metadata": {},
     "output_type": "execute_result"
    },
    {
     "data": {
      "image/png": "[encoded data removed]",
      "text/plain": [
       "<Figure size 432x288 with 1 Axes>"
      ]
     },
     "metadata": {
      "needs_background": "light"
     },
     "output_type": "display_data"
    }
   ],
   "source": [
    "sns.scatterplot(y_test,y_predicted)\n",
    "plt.xlabel('Actual')\n",
    "plt.ylabel('Predicted')\n",
    "plt.title(\"Decision Tree Regression Model\")"
   ]
  }
 ],
 "metadata": {
  "kernelspec": {
   "display_name": "Python 3 (ipykernel)",
   "language": "python",
   "name": "python3"
  },
  "language_info": {
   "codemirror_mode": {
    "name": "ipython",
    "version": 3
   },
   "file_extension": ".py",
   "mimetype": "text/x-python",
   "name": "python",
   "nbconvert_exporter": "python",
   "pygments_lexer": "ipython3",
   "version": "3.9.7"
  }
 },
 "nbformat": 4,
 "nbformat_minor": 5
}
